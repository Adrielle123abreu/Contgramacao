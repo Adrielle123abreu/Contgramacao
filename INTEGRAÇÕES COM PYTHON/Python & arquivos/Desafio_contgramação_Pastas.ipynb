{
 "cells": [
  {
   "cell_type": "markdown",
   "metadata": {},
   "source": [
    "#### Listar arquivos"
   ]
  },
  {
   "cell_type": "code",
   "execution_count": 70,
   "metadata": {},
   "outputs": [
    {
     "name": "stdout",
     "output_type": "stream",
     "text": [
      "c:\\Users\\Adrielle\\OneDrive\\Área de Trabalho\\Códigos\n",
      "c:\\Users\\Adrielle\\OneDrive\\Área de Trabalho\\Códigos\\Arquivos_Lojas\\Arquivos_Lojas\\201801_Amazonas Shopping_AM.csv\n",
      "c:\\Users\\Adrielle\\OneDrive\\Área de Trabalho\\Códigos\\Arquivos_Lojas\\Arquivos_Lojas\\201801_Barra Shopping_RJ.csv\n",
      "c:\\Users\\Adrielle\\OneDrive\\Área de Trabalho\\Códigos\\Arquivos_Lojas\\Arquivos_Lojas\\201801_BH Shopping_MG.csv\n",
      "c:\\Users\\Adrielle\\OneDrive\\Área de Trabalho\\Códigos\\Arquivos_Lojas\\Arquivos_Lojas\\201801_Bourbon_SP.csv\n",
      "c:\\Users\\Adrielle\\OneDrive\\Área de Trabalho\\Códigos\\Arquivos_Lojas\\Arquivos_Lojas\\201801_Buriti Shopping_GO.csv\n",
      "c:\\Users\\Adrielle\\OneDrive\\Área de Trabalho\\Códigos\\Arquivos_Lojas\\Arquivos_Lojas\\201801_Cidade de Sao Paulo_SP.csv\n",
      "c:\\Users\\Adrielle\\OneDrive\\Área de Trabalho\\Códigos\\Arquivos_Lojas\\Arquivos_Lojas\\201801_Goiania Shopping_GO.csv\n",
      "c:\\Users\\Adrielle\\OneDrive\\Área de Trabalho\\Códigos\\Arquivos_Lojas\\Arquivos_Lojas\\201801_Ibirapuera_SP.csv\n",
      "c:\\Users\\Adrielle\\OneDrive\\Área de Trabalho\\Códigos\\Arquivos_Lojas\\Arquivos_Lojas\\201801_Iguatemi_SP.csv\n",
      "c:\\Users\\Adrielle\\OneDrive\\Área de Trabalho\\Códigos\\Arquivos_Lojas\\Arquivos_Lojas\\201801_Independência Shopping_MG.csv\n",
      "c:\\Users\\Adrielle\\OneDrive\\Área de Trabalho\\Códigos\\Arquivos_Lojas\\Arquivos_Lojas\\201801_JK Iguatemi_SP.csv\n",
      "c:\\Users\\Adrielle\\OneDrive\\Área de Trabalho\\Códigos\\Arquivos_Lojas\\Arquivos_Lojas\\201801_Minas Shopping_MG.csv\n",
      "c:\\Users\\Adrielle\\OneDrive\\Área de Trabalho\\Códigos\\Arquivos_Lojas\\Arquivos_Lojas\\201801_Morumbi_SP.csv\n",
      "c:\\Users\\Adrielle\\OneDrive\\Área de Trabalho\\Códigos\\Arquivos_Lojas\\Arquivos_Lojas\\201801_Plaza Shopping_RJ.csv\n",
      "c:\\Users\\Adrielle\\OneDrive\\Área de Trabalho\\Códigos\\Arquivos_Lojas\\Arquivos_Lojas\\201801_Rio Sul_RJ.csv\n",
      "c:\\Users\\Adrielle\\OneDrive\\Área de Trabalho\\Códigos\\Arquivos_Lojas\\Arquivos_Lojas\\201801_Shopping Cidade_MG.csv\n",
      "c:\\Users\\Adrielle\\OneDrive\\Área de Trabalho\\Códigos\\Arquivos_Lojas\\Arquivos_Lojas\\201801_Shopping Leblon_RJ.csv\n",
      "c:\\Users\\Adrielle\\OneDrive\\Área de Trabalho\\Códigos\\Arquivos_Lojas\\Arquivos_Lojas\\201801_Shopping Tijuca_RJ.csv\n",
      "c:\\Users\\Adrielle\\OneDrive\\Área de Trabalho\\Códigos\\Arquivos_Lojas\\Arquivos_Lojas\\201802_Amazonas Shopping_AM.csv\n",
      "c:\\Users\\Adrielle\\OneDrive\\Área de Trabalho\\Códigos\\Arquivos_Lojas\\Arquivos_Lojas\\201802_Barra Shopping_RJ.csv\n",
      "c:\\Users\\Adrielle\\OneDrive\\Área de Trabalho\\Códigos\\Arquivos_Lojas\\Arquivos_Lojas\\201802_BH Shopping_MG.csv\n",
      "c:\\Users\\Adrielle\\OneDrive\\Área de Trabalho\\Códigos\\Arquivos_Lojas\\Arquivos_Lojas\\201802_Bourbon_SP.csv\n",
      "c:\\Users\\Adrielle\\OneDrive\\Área de Trabalho\\Códigos\\Arquivos_Lojas\\Arquivos_Lojas\\201802_Buriti Shopping_GO.csv\n",
      "c:\\Users\\Adrielle\\OneDrive\\Área de Trabalho\\Códigos\\Arquivos_Lojas\\Arquivos_Lojas\\201802_Cidade de Sao Paulo_SP.csv\n",
      "c:\\Users\\Adrielle\\OneDrive\\Área de Trabalho\\Códigos\\Arquivos_Lojas\\Arquivos_Lojas\\201802_Goiania Shopping_GO.csv\n",
      "c:\\Users\\Adrielle\\OneDrive\\Área de Trabalho\\Códigos\\Arquivos_Lojas\\Arquivos_Lojas\\201802_Ibirapuera_SP.csv\n",
      "c:\\Users\\Adrielle\\OneDrive\\Área de Trabalho\\Códigos\\Arquivos_Lojas\\Arquivos_Lojas\\201802_Iguatemi_SP.csv\n",
      "c:\\Users\\Adrielle\\OneDrive\\Área de Trabalho\\Códigos\\Arquivos_Lojas\\Arquivos_Lojas\\201802_Independência Shopping_MG.csv\n",
      "c:\\Users\\Adrielle\\OneDrive\\Área de Trabalho\\Códigos\\Arquivos_Lojas\\Arquivos_Lojas\\201802_JK Iguatemi_SP.csv\n",
      "c:\\Users\\Adrielle\\OneDrive\\Área de Trabalho\\Códigos\\Arquivos_Lojas\\Arquivos_Lojas\\201802_Minas Shopping_MG.csv\n",
      "c:\\Users\\Adrielle\\OneDrive\\Área de Trabalho\\Códigos\\Arquivos_Lojas\\Arquivos_Lojas\\201802_Morumbi_SP.csv\n",
      "c:\\Users\\Adrielle\\OneDrive\\Área de Trabalho\\Códigos\\Arquivos_Lojas\\Arquivos_Lojas\\201802_Plaza Shopping_RJ.csv\n",
      "c:\\Users\\Adrielle\\OneDrive\\Área de Trabalho\\Códigos\\Arquivos_Lojas\\Arquivos_Lojas\\201802_Rio Sul_RJ.csv\n",
      "c:\\Users\\Adrielle\\OneDrive\\Área de Trabalho\\Códigos\\Arquivos_Lojas\\Arquivos_Lojas\\201802_Shopping Cidade_MG.csv\n",
      "c:\\Users\\Adrielle\\OneDrive\\Área de Trabalho\\Códigos\\Arquivos_Lojas\\Arquivos_Lojas\\201802_Shopping Leblon_RJ.csv\n",
      "c:\\Users\\Adrielle\\OneDrive\\Área de Trabalho\\Códigos\\Arquivos_Lojas\\Arquivos_Lojas\\201802_Shopping Tijuca_RJ.csv\n",
      "c:\\Users\\Adrielle\\OneDrive\\Área de Trabalho\\Códigos\\Arquivos_Lojas\\Arquivos_Lojas\\201803_Amazonas Shopping_AM.csv\n",
      "c:\\Users\\Adrielle\\OneDrive\\Área de Trabalho\\Códigos\\Arquivos_Lojas\\Arquivos_Lojas\\201803_Barra Shopping_RJ.csv\n",
      "c:\\Users\\Adrielle\\OneDrive\\Área de Trabalho\\Códigos\\Arquivos_Lojas\\Arquivos_Lojas\\201803_BH Shopping_MG.csv\n",
      "c:\\Users\\Adrielle\\OneDrive\\Área de Trabalho\\Códigos\\Arquivos_Lojas\\Arquivos_Lojas\\201803_Bourbon_SP.csv\n",
      "c:\\Users\\Adrielle\\OneDrive\\Área de Trabalho\\Códigos\\Arquivos_Lojas\\Arquivos_Lojas\\201803_Buriti Shopping_GO.csv\n",
      "c:\\Users\\Adrielle\\OneDrive\\Área de Trabalho\\Códigos\\Arquivos_Lojas\\Arquivos_Lojas\\201803_Cidade de Sao Paulo_SP.csv\n",
      "c:\\Users\\Adrielle\\OneDrive\\Área de Trabalho\\Códigos\\Arquivos_Lojas\\Arquivos_Lojas\\201803_Goiania Shopping_GO.csv\n",
      "c:\\Users\\Adrielle\\OneDrive\\Área de Trabalho\\Códigos\\Arquivos_Lojas\\Arquivos_Lojas\\201803_Ibirapuera_SP.csv\n",
      "c:\\Users\\Adrielle\\OneDrive\\Área de Trabalho\\Códigos\\Arquivos_Lojas\\Arquivos_Lojas\\201803_Iguatemi_SP.csv\n",
      "c:\\Users\\Adrielle\\OneDrive\\Área de Trabalho\\Códigos\\Arquivos_Lojas\\Arquivos_Lojas\\201803_Independência Shopping_MG.csv\n",
      "c:\\Users\\Adrielle\\OneDrive\\Área de Trabalho\\Códigos\\Arquivos_Lojas\\Arquivos_Lojas\\201803_JK Iguatemi_SP.csv\n",
      "c:\\Users\\Adrielle\\OneDrive\\Área de Trabalho\\Códigos\\Arquivos_Lojas\\Arquivos_Lojas\\201803_Minas Shopping_MG.csv\n",
      "c:\\Users\\Adrielle\\OneDrive\\Área de Trabalho\\Códigos\\Arquivos_Lojas\\Arquivos_Lojas\\201803_Morumbi_SP.csv\n",
      "c:\\Users\\Adrielle\\OneDrive\\Área de Trabalho\\Códigos\\Arquivos_Lojas\\Arquivos_Lojas\\201803_Plaza Shopping_RJ.csv\n",
      "c:\\Users\\Adrielle\\OneDrive\\Área de Trabalho\\Códigos\\Arquivos_Lojas\\Arquivos_Lojas\\201803_Rio Sul_RJ.csv\n",
      "c:\\Users\\Adrielle\\OneDrive\\Área de Trabalho\\Códigos\\Arquivos_Lojas\\Arquivos_Lojas\\201803_Shopping Cidade_MG.csv\n",
      "c:\\Users\\Adrielle\\OneDrive\\Área de Trabalho\\Códigos\\Arquivos_Lojas\\Arquivos_Lojas\\201803_Shopping Leblon_RJ.csv\n",
      "c:\\Users\\Adrielle\\OneDrive\\Área de Trabalho\\Códigos\\Arquivos_Lojas\\Arquivos_Lojas\\201803_Shopping Tijuca_RJ.csv\n",
      "c:\\Users\\Adrielle\\OneDrive\\Área de Trabalho\\Códigos\\Arquivos_Lojas\\Arquivos_Lojas\\201804_Amazonas Shopping_AM.csv\n",
      "c:\\Users\\Adrielle\\OneDrive\\Área de Trabalho\\Códigos\\Arquivos_Lojas\\Arquivos_Lojas\\201804_Barra Shopping_RJ.csv\n",
      "c:\\Users\\Adrielle\\OneDrive\\Área de Trabalho\\Códigos\\Arquivos_Lojas\\Arquivos_Lojas\\201804_BH Shopping_MG.csv\n",
      "c:\\Users\\Adrielle\\OneDrive\\Área de Trabalho\\Códigos\\Arquivos_Lojas\\Arquivos_Lojas\\201804_Bourbon_SP.csv\n",
      "c:\\Users\\Adrielle\\OneDrive\\Área de Trabalho\\Códigos\\Arquivos_Lojas\\Arquivos_Lojas\\201804_Buriti Shopping_GO.csv\n",
      "c:\\Users\\Adrielle\\OneDrive\\Área de Trabalho\\Códigos\\Arquivos_Lojas\\Arquivos_Lojas\\201804_Cidade de Sao Paulo_SP.csv\n",
      "c:\\Users\\Adrielle\\OneDrive\\Área de Trabalho\\Códigos\\Arquivos_Lojas\\Arquivos_Lojas\\201804_Goiania Shopping_GO.csv\n",
      "c:\\Users\\Adrielle\\OneDrive\\Área de Trabalho\\Códigos\\Arquivos_Lojas\\Arquivos_Lojas\\201804_Ibirapuera_SP.csv\n",
      "c:\\Users\\Adrielle\\OneDrive\\Área de Trabalho\\Códigos\\Arquivos_Lojas\\Arquivos_Lojas\\201804_Iguatemi_SP.csv\n",
      "c:\\Users\\Adrielle\\OneDrive\\Área de Trabalho\\Códigos\\Arquivos_Lojas\\Arquivos_Lojas\\201804_Independência Shopping_MG.csv\n",
      "c:\\Users\\Adrielle\\OneDrive\\Área de Trabalho\\Códigos\\Arquivos_Lojas\\Arquivos_Lojas\\201804_JK Iguatemi_SP.csv\n",
      "c:\\Users\\Adrielle\\OneDrive\\Área de Trabalho\\Códigos\\Arquivos_Lojas\\Arquivos_Lojas\\201804_Minas Shopping_MG.csv\n",
      "c:\\Users\\Adrielle\\OneDrive\\Área de Trabalho\\Códigos\\Arquivos_Lojas\\Arquivos_Lojas\\201804_Morumbi_SP.csv\n",
      "c:\\Users\\Adrielle\\OneDrive\\Área de Trabalho\\Códigos\\Arquivos_Lojas\\Arquivos_Lojas\\201804_Plaza Shopping_RJ.csv\n",
      "c:\\Users\\Adrielle\\OneDrive\\Área de Trabalho\\Códigos\\Arquivos_Lojas\\Arquivos_Lojas\\201804_Rio Sul_RJ.csv\n",
      "c:\\Users\\Adrielle\\OneDrive\\Área de Trabalho\\Códigos\\Arquivos_Lojas\\Arquivos_Lojas\\201804_Shopping Cidade_MG.csv\n",
      "c:\\Users\\Adrielle\\OneDrive\\Área de Trabalho\\Códigos\\Arquivos_Lojas\\Arquivos_Lojas\\201804_Shopping Leblon_RJ.csv\n",
      "c:\\Users\\Adrielle\\OneDrive\\Área de Trabalho\\Códigos\\Arquivos_Lojas\\Arquivos_Lojas\\201804_Shopping Tijuca_RJ.csv\n",
      "c:\\Users\\Adrielle\\OneDrive\\Área de Trabalho\\Códigos\\Arquivos_Lojas\\Arquivos_Lojas\\201901_Amazonas Shopping_AM.csv\n",
      "c:\\Users\\Adrielle\\OneDrive\\Área de Trabalho\\Códigos\\Arquivos_Lojas\\Arquivos_Lojas\\201901_Barra Shopping_RJ.csv\n",
      "c:\\Users\\Adrielle\\OneDrive\\Área de Trabalho\\Códigos\\Arquivos_Lojas\\Arquivos_Lojas\\201901_BH Shopping_MG.csv\n",
      "c:\\Users\\Adrielle\\OneDrive\\Área de Trabalho\\Códigos\\Arquivos_Lojas\\Arquivos_Lojas\\201901_Bourbon_SP.csv\n",
      "c:\\Users\\Adrielle\\OneDrive\\Área de Trabalho\\Códigos\\Arquivos_Lojas\\Arquivos_Lojas\\201901_Buriti Shopping_GO.csv\n",
      "c:\\Users\\Adrielle\\OneDrive\\Área de Trabalho\\Códigos\\Arquivos_Lojas\\Arquivos_Lojas\\201901_Cidade de Sao Paulo_SP.csv\n",
      "c:\\Users\\Adrielle\\OneDrive\\Área de Trabalho\\Códigos\\Arquivos_Lojas\\Arquivos_Lojas\\201901_Goiania Shopping_GO.csv\n",
      "c:\\Users\\Adrielle\\OneDrive\\Área de Trabalho\\Códigos\\Arquivos_Lojas\\Arquivos_Lojas\\201901_Ibirapuera_SP.csv\n",
      "c:\\Users\\Adrielle\\OneDrive\\Área de Trabalho\\Códigos\\Arquivos_Lojas\\Arquivos_Lojas\\201901_Iguatemi_SP.csv\n",
      "c:\\Users\\Adrielle\\OneDrive\\Área de Trabalho\\Códigos\\Arquivos_Lojas\\Arquivos_Lojas\\201901_Independência Shopping_MG.csv\n",
      "c:\\Users\\Adrielle\\OneDrive\\Área de Trabalho\\Códigos\\Arquivos_Lojas\\Arquivos_Lojas\\201901_JK Iguatemi_SP.csv\n",
      "c:\\Users\\Adrielle\\OneDrive\\Área de Trabalho\\Códigos\\Arquivos_Lojas\\Arquivos_Lojas\\201901_Minas Shopping_MG.csv\n",
      "c:\\Users\\Adrielle\\OneDrive\\Área de Trabalho\\Códigos\\Arquivos_Lojas\\Arquivos_Lojas\\201901_Morumbi_SP.csv\n",
      "c:\\Users\\Adrielle\\OneDrive\\Área de Trabalho\\Códigos\\Arquivos_Lojas\\Arquivos_Lojas\\201901_Plaza Shopping_RJ.csv\n",
      "c:\\Users\\Adrielle\\OneDrive\\Área de Trabalho\\Códigos\\Arquivos_Lojas\\Arquivos_Lojas\\201901_Rio Sul_RJ.csv\n",
      "c:\\Users\\Adrielle\\OneDrive\\Área de Trabalho\\Códigos\\Arquivos_Lojas\\Arquivos_Lojas\\201901_Shopping Cidade_MG.csv\n",
      "c:\\Users\\Adrielle\\OneDrive\\Área de Trabalho\\Códigos\\Arquivos_Lojas\\Arquivos_Lojas\\201901_Shopping Leblon_RJ.csv\n",
      "c:\\Users\\Adrielle\\OneDrive\\Área de Trabalho\\Códigos\\Arquivos_Lojas\\Arquivos_Lojas\\201901_Shopping Tijuca_RJ.csv\n",
      "c:\\Users\\Adrielle\\OneDrive\\Área de Trabalho\\Códigos\\Arquivos_Lojas\\Arquivos_Lojas\\201902_Amazonas Shopping_AM.csv\n",
      "c:\\Users\\Adrielle\\OneDrive\\Área de Trabalho\\Códigos\\Arquivos_Lojas\\Arquivos_Lojas\\201902_Barra Shopping_RJ.csv\n",
      "c:\\Users\\Adrielle\\OneDrive\\Área de Trabalho\\Códigos\\Arquivos_Lojas\\Arquivos_Lojas\\201902_BH Shopping_MG.csv\n",
      "c:\\Users\\Adrielle\\OneDrive\\Área de Trabalho\\Códigos\\Arquivos_Lojas\\Arquivos_Lojas\\201902_Bourbon_SP.csv\n",
      "c:\\Users\\Adrielle\\OneDrive\\Área de Trabalho\\Códigos\\Arquivos_Lojas\\Arquivos_Lojas\\201902_Buriti Shopping_GO.csv\n",
      "c:\\Users\\Adrielle\\OneDrive\\Área de Trabalho\\Códigos\\Arquivos_Lojas\\Arquivos_Lojas\\201902_Cidade de Sao Paulo_SP.csv\n",
      "c:\\Users\\Adrielle\\OneDrive\\Área de Trabalho\\Códigos\\Arquivos_Lojas\\Arquivos_Lojas\\201902_Goiania Shopping_GO.csv\n",
      "c:\\Users\\Adrielle\\OneDrive\\Área de Trabalho\\Códigos\\Arquivos_Lojas\\Arquivos_Lojas\\201902_Ibirapuera_SP.csv\n",
      "c:\\Users\\Adrielle\\OneDrive\\Área de Trabalho\\Códigos\\Arquivos_Lojas\\Arquivos_Lojas\\201902_Iguatemi_SP.csv\n",
      "c:\\Users\\Adrielle\\OneDrive\\Área de Trabalho\\Códigos\\Arquivos_Lojas\\Arquivos_Lojas\\201902_Independência Shopping_MG.csv\n",
      "c:\\Users\\Adrielle\\OneDrive\\Área de Trabalho\\Códigos\\Arquivos_Lojas\\Arquivos_Lojas\\201902_JK Iguatemi_SP.csv\n",
      "c:\\Users\\Adrielle\\OneDrive\\Área de Trabalho\\Códigos\\Arquivos_Lojas\\Arquivos_Lojas\\201902_Minas Shopping_MG.csv\n",
      "c:\\Users\\Adrielle\\OneDrive\\Área de Trabalho\\Códigos\\Arquivos_Lojas\\Arquivos_Lojas\\201902_Morumbi_SP.csv\n",
      "c:\\Users\\Adrielle\\OneDrive\\Área de Trabalho\\Códigos\\Arquivos_Lojas\\Arquivos_Lojas\\201902_Plaza Shopping_RJ.csv\n",
      "c:\\Users\\Adrielle\\OneDrive\\Área de Trabalho\\Códigos\\Arquivos_Lojas\\Arquivos_Lojas\\201902_Rio Sul_RJ.csv\n",
      "c:\\Users\\Adrielle\\OneDrive\\Área de Trabalho\\Códigos\\Arquivos_Lojas\\Arquivos_Lojas\\201902_Shopping Cidade_MG.csv\n",
      "c:\\Users\\Adrielle\\OneDrive\\Área de Trabalho\\Códigos\\Arquivos_Lojas\\Arquivos_Lojas\\201902_Shopping Leblon_RJ.csv\n",
      "c:\\Users\\Adrielle\\OneDrive\\Área de Trabalho\\Códigos\\Arquivos_Lojas\\Arquivos_Lojas\\201902_Shopping Tijuca_RJ.csv\n",
      "c:\\Users\\Adrielle\\OneDrive\\Área de Trabalho\\Códigos\\Arquivos_Lojas\\Arquivos_Lojas\\201903_Amazonas Shopping_AM.csv\n",
      "c:\\Users\\Adrielle\\OneDrive\\Área de Trabalho\\Códigos\\Arquivos_Lojas\\Arquivos_Lojas\\201903_Barra Shopping_RJ.csv\n",
      "c:\\Users\\Adrielle\\OneDrive\\Área de Trabalho\\Códigos\\Arquivos_Lojas\\Arquivos_Lojas\\201903_BH Shopping_MG.csv\n",
      "c:\\Users\\Adrielle\\OneDrive\\Área de Trabalho\\Códigos\\Arquivos_Lojas\\Arquivos_Lojas\\201903_Bourbon_SP.csv\n",
      "c:\\Users\\Adrielle\\OneDrive\\Área de Trabalho\\Códigos\\Arquivos_Lojas\\Arquivos_Lojas\\201903_Buriti Shopping_GO.csv\n",
      "c:\\Users\\Adrielle\\OneDrive\\Área de Trabalho\\Códigos\\Arquivos_Lojas\\Arquivos_Lojas\\201903_Cidade de Sao Paulo_SP.csv\n",
      "c:\\Users\\Adrielle\\OneDrive\\Área de Trabalho\\Códigos\\Arquivos_Lojas\\Arquivos_Lojas\\201903_Goiania Shopping_GO.csv\n",
      "c:\\Users\\Adrielle\\OneDrive\\Área de Trabalho\\Códigos\\Arquivos_Lojas\\Arquivos_Lojas\\201903_Ibirapuera_SP.csv\n",
      "c:\\Users\\Adrielle\\OneDrive\\Área de Trabalho\\Códigos\\Arquivos_Lojas\\Arquivos_Lojas\\201903_Iguatemi_SP.csv\n",
      "c:\\Users\\Adrielle\\OneDrive\\Área de Trabalho\\Códigos\\Arquivos_Lojas\\Arquivos_Lojas\\201903_Independência Shopping_MG.csv\n",
      "c:\\Users\\Adrielle\\OneDrive\\Área de Trabalho\\Códigos\\Arquivos_Lojas\\Arquivos_Lojas\\201903_JK Iguatemi_SP.csv\n",
      "c:\\Users\\Adrielle\\OneDrive\\Área de Trabalho\\Códigos\\Arquivos_Lojas\\Arquivos_Lojas\\201903_Minas Shopping_MG.csv\n",
      "c:\\Users\\Adrielle\\OneDrive\\Área de Trabalho\\Códigos\\Arquivos_Lojas\\Arquivos_Lojas\\201903_Morumbi_SP.csv\n",
      "c:\\Users\\Adrielle\\OneDrive\\Área de Trabalho\\Códigos\\Arquivos_Lojas\\Arquivos_Lojas\\201903_Plaza Shopping_RJ.csv\n",
      "c:\\Users\\Adrielle\\OneDrive\\Área de Trabalho\\Códigos\\Arquivos_Lojas\\Arquivos_Lojas\\201903_Rio Sul_RJ.csv\n",
      "c:\\Users\\Adrielle\\OneDrive\\Área de Trabalho\\Códigos\\Arquivos_Lojas\\Arquivos_Lojas\\201903_Shopping Cidade_MG.csv\n",
      "c:\\Users\\Adrielle\\OneDrive\\Área de Trabalho\\Códigos\\Arquivos_Lojas\\Arquivos_Lojas\\201903_Shopping Leblon_RJ.csv\n",
      "c:\\Users\\Adrielle\\OneDrive\\Área de Trabalho\\Códigos\\Arquivos_Lojas\\Arquivos_Lojas\\201903_Shopping Tijuca_RJ.csv\n",
      "c:\\Users\\Adrielle\\OneDrive\\Área de Trabalho\\Códigos\\Arquivos_Lojas\\Arquivos_Lojas\\201904_Amazonas Shopping_AM.csv\n",
      "c:\\Users\\Adrielle\\OneDrive\\Área de Trabalho\\Códigos\\Arquivos_Lojas\\Arquivos_Lojas\\201904_Barra Shopping_RJ.csv\n",
      "c:\\Users\\Adrielle\\OneDrive\\Área de Trabalho\\Códigos\\Arquivos_Lojas\\Arquivos_Lojas\\201904_BH Shopping_MG.csv\n",
      "c:\\Users\\Adrielle\\OneDrive\\Área de Trabalho\\Códigos\\Arquivos_Lojas\\Arquivos_Lojas\\201904_Bourbon_SP.csv\n",
      "c:\\Users\\Adrielle\\OneDrive\\Área de Trabalho\\Códigos\\Arquivos_Lojas\\Arquivos_Lojas\\201904_Buriti Shopping_GO.csv\n",
      "c:\\Users\\Adrielle\\OneDrive\\Área de Trabalho\\Códigos\\Arquivos_Lojas\\Arquivos_Lojas\\201904_Cidade de Sao Paulo_SP.csv\n",
      "c:\\Users\\Adrielle\\OneDrive\\Área de Trabalho\\Códigos\\Arquivos_Lojas\\Arquivos_Lojas\\201904_Goiania Shopping_GO.csv\n",
      "c:\\Users\\Adrielle\\OneDrive\\Área de Trabalho\\Códigos\\Arquivos_Lojas\\Arquivos_Lojas\\201904_Ibirapuera_SP.csv\n",
      "c:\\Users\\Adrielle\\OneDrive\\Área de Trabalho\\Códigos\\Arquivos_Lojas\\Arquivos_Lojas\\201904_Iguatemi_SP.csv\n",
      "c:\\Users\\Adrielle\\OneDrive\\Área de Trabalho\\Códigos\\Arquivos_Lojas\\Arquivos_Lojas\\201904_Independência Shopping_MG.csv\n",
      "c:\\Users\\Adrielle\\OneDrive\\Área de Trabalho\\Códigos\\Arquivos_Lojas\\Arquivos_Lojas\\201904_JK Iguatemi_SP.csv\n",
      "c:\\Users\\Adrielle\\OneDrive\\Área de Trabalho\\Códigos\\Arquivos_Lojas\\Arquivos_Lojas\\201904_Minas Shopping_MG.csv\n",
      "c:\\Users\\Adrielle\\OneDrive\\Área de Trabalho\\Códigos\\Arquivos_Lojas\\Arquivos_Lojas\\201904_Morumbi_SP.csv\n",
      "c:\\Users\\Adrielle\\OneDrive\\Área de Trabalho\\Códigos\\Arquivos_Lojas\\Arquivos_Lojas\\201904_Plaza Shopping_RJ.csv\n",
      "c:\\Users\\Adrielle\\OneDrive\\Área de Trabalho\\Códigos\\Arquivos_Lojas\\Arquivos_Lojas\\201904_Rio Sul_RJ.csv\n",
      "c:\\Users\\Adrielle\\OneDrive\\Área de Trabalho\\Códigos\\Arquivos_Lojas\\Arquivos_Lojas\\201904_Shopping Cidade_MG.csv\n",
      "c:\\Users\\Adrielle\\OneDrive\\Área de Trabalho\\Códigos\\Arquivos_Lojas\\Arquivos_Lojas\\201904_Shopping Leblon_RJ.csv\n",
      "c:\\Users\\Adrielle\\OneDrive\\Área de Trabalho\\Códigos\\Arquivos_Lojas\\Arquivos_Lojas\\201904_Shopping Tijuca_RJ.csv\n",
      "c:\\Users\\Adrielle\\OneDrive\\Área de Trabalho\\Códigos\\Arquivos_Lojas\\Arquivos_Lojas\\202001_Amazonas Shopping_AM.csv\n",
      "c:\\Users\\Adrielle\\OneDrive\\Área de Trabalho\\Códigos\\Arquivos_Lojas\\Arquivos_Lojas\\202001_Barra Shopping_RJ.csv\n",
      "c:\\Users\\Adrielle\\OneDrive\\Área de Trabalho\\Códigos\\Arquivos_Lojas\\Arquivos_Lojas\\202001_BH Shopping_MG.csv\n",
      "c:\\Users\\Adrielle\\OneDrive\\Área de Trabalho\\Códigos\\Arquivos_Lojas\\Arquivos_Lojas\\202001_Bourbon_SP.csv\n",
      "c:\\Users\\Adrielle\\OneDrive\\Área de Trabalho\\Códigos\\Arquivos_Lojas\\Arquivos_Lojas\\202001_Buriti Shopping_GO.csv\n",
      "c:\\Users\\Adrielle\\OneDrive\\Área de Trabalho\\Códigos\\Arquivos_Lojas\\Arquivos_Lojas\\202001_Cidade de Sao Paulo_SP.csv\n",
      "c:\\Users\\Adrielle\\OneDrive\\Área de Trabalho\\Códigos\\Arquivos_Lojas\\Arquivos_Lojas\\202001_Goiania Shopping_GO.csv\n",
      "c:\\Users\\Adrielle\\OneDrive\\Área de Trabalho\\Códigos\\Arquivos_Lojas\\Arquivos_Lojas\\202001_Ibirapuera_SP.csv\n",
      "c:\\Users\\Adrielle\\OneDrive\\Área de Trabalho\\Códigos\\Arquivos_Lojas\\Arquivos_Lojas\\202001_Iguatemi_SP.csv\n",
      "c:\\Users\\Adrielle\\OneDrive\\Área de Trabalho\\Códigos\\Arquivos_Lojas\\Arquivos_Lojas\\202001_Independência Shopping_MG.csv\n",
      "c:\\Users\\Adrielle\\OneDrive\\Área de Trabalho\\Códigos\\Arquivos_Lojas\\Arquivos_Lojas\\202001_JK Iguatemi_SP.csv\n",
      "c:\\Users\\Adrielle\\OneDrive\\Área de Trabalho\\Códigos\\Arquivos_Lojas\\Arquivos_Lojas\\202001_Minas Shopping_MG.csv\n",
      "c:\\Users\\Adrielle\\OneDrive\\Área de Trabalho\\Códigos\\Arquivos_Lojas\\Arquivos_Lojas\\202001_Morumbi_SP.csv\n",
      "c:\\Users\\Adrielle\\OneDrive\\Área de Trabalho\\Códigos\\Arquivos_Lojas\\Arquivos_Lojas\\202001_Plaza Shopping_RJ.csv\n",
      "c:\\Users\\Adrielle\\OneDrive\\Área de Trabalho\\Códigos\\Arquivos_Lojas\\Arquivos_Lojas\\202001_Rio Sul_RJ.csv\n",
      "c:\\Users\\Adrielle\\OneDrive\\Área de Trabalho\\Códigos\\Arquivos_Lojas\\Arquivos_Lojas\\202001_Shopping Cidade_MG.csv\n",
      "c:\\Users\\Adrielle\\OneDrive\\Área de Trabalho\\Códigos\\Arquivos_Lojas\\Arquivos_Lojas\\202001_Shopping Leblon_RJ.csv\n",
      "c:\\Users\\Adrielle\\OneDrive\\Área de Trabalho\\Códigos\\Arquivos_Lojas\\Arquivos_Lojas\\202001_Shopping Tijuca_RJ.csv\n",
      "c:\\Users\\Adrielle\\OneDrive\\Área de Trabalho\\Códigos\\Arquivos_Lojas\\Arquivos_Lojas\\202002_Amazonas Shopping_AM.csv\n",
      "c:\\Users\\Adrielle\\OneDrive\\Área de Trabalho\\Códigos\\Arquivos_Lojas\\Arquivos_Lojas\\202002_Barra Shopping_RJ.csv\n",
      "c:\\Users\\Adrielle\\OneDrive\\Área de Trabalho\\Códigos\\Arquivos_Lojas\\Arquivos_Lojas\\202002_BH Shopping_MG.csv\n",
      "c:\\Users\\Adrielle\\OneDrive\\Área de Trabalho\\Códigos\\Arquivos_Lojas\\Arquivos_Lojas\\202002_Bourbon_SP.csv\n",
      "c:\\Users\\Adrielle\\OneDrive\\Área de Trabalho\\Códigos\\Arquivos_Lojas\\Arquivos_Lojas\\202002_Buriti Shopping_GO.csv\n",
      "c:\\Users\\Adrielle\\OneDrive\\Área de Trabalho\\Códigos\\Arquivos_Lojas\\Arquivos_Lojas\\202002_Cidade de Sao Paulo_SP.csv\n",
      "c:\\Users\\Adrielle\\OneDrive\\Área de Trabalho\\Códigos\\Arquivos_Lojas\\Arquivos_Lojas\\202002_Goiania Shopping_GO.csv\n",
      "c:\\Users\\Adrielle\\OneDrive\\Área de Trabalho\\Códigos\\Arquivos_Lojas\\Arquivos_Lojas\\202002_Ibirapuera_SP.csv\n",
      "c:\\Users\\Adrielle\\OneDrive\\Área de Trabalho\\Códigos\\Arquivos_Lojas\\Arquivos_Lojas\\202002_Iguatemi_SP.csv\n",
      "c:\\Users\\Adrielle\\OneDrive\\Área de Trabalho\\Códigos\\Arquivos_Lojas\\Arquivos_Lojas\\202002_Independência Shopping_MG.csv\n",
      "c:\\Users\\Adrielle\\OneDrive\\Área de Trabalho\\Códigos\\Arquivos_Lojas\\Arquivos_Lojas\\202002_JK Iguatemi_SP.csv\n",
      "c:\\Users\\Adrielle\\OneDrive\\Área de Trabalho\\Códigos\\Arquivos_Lojas\\Arquivos_Lojas\\202002_Minas Shopping_MG.csv\n",
      "c:\\Users\\Adrielle\\OneDrive\\Área de Trabalho\\Códigos\\Arquivos_Lojas\\Arquivos_Lojas\\202002_Morumbi_SP.csv\n",
      "c:\\Users\\Adrielle\\OneDrive\\Área de Trabalho\\Códigos\\Arquivos_Lojas\\Arquivos_Lojas\\202002_Plaza Shopping_RJ.csv\n",
      "c:\\Users\\Adrielle\\OneDrive\\Área de Trabalho\\Códigos\\Arquivos_Lojas\\Arquivos_Lojas\\202002_Rio Sul_RJ.csv\n",
      "c:\\Users\\Adrielle\\OneDrive\\Área de Trabalho\\Códigos\\Arquivos_Lojas\\Arquivos_Lojas\\202002_Shopping Cidade_MG.csv\n",
      "c:\\Users\\Adrielle\\OneDrive\\Área de Trabalho\\Códigos\\Arquivos_Lojas\\Arquivos_Lojas\\202002_Shopping Leblon_RJ.csv\n",
      "c:\\Users\\Adrielle\\OneDrive\\Área de Trabalho\\Códigos\\Arquivos_Lojas\\Arquivos_Lojas\\202002_Shopping Tijuca_RJ.csv\n",
      "c:\\Users\\Adrielle\\OneDrive\\Área de Trabalho\\Códigos\\Arquivos_Lojas\\Arquivos_Lojas\\202003_Amazonas Shopping_AM.csv\n",
      "c:\\Users\\Adrielle\\OneDrive\\Área de Trabalho\\Códigos\\Arquivos_Lojas\\Arquivos_Lojas\\202003_Barra Shopping_RJ.csv\n",
      "c:\\Users\\Adrielle\\OneDrive\\Área de Trabalho\\Códigos\\Arquivos_Lojas\\Arquivos_Lojas\\202003_BH Shopping_MG.csv\n",
      "c:\\Users\\Adrielle\\OneDrive\\Área de Trabalho\\Códigos\\Arquivos_Lojas\\Arquivos_Lojas\\202003_Bourbon_SP.csv\n",
      "c:\\Users\\Adrielle\\OneDrive\\Área de Trabalho\\Códigos\\Arquivos_Lojas\\Arquivos_Lojas\\202003_Buriti Shopping_GO.csv\n",
      "c:\\Users\\Adrielle\\OneDrive\\Área de Trabalho\\Códigos\\Arquivos_Lojas\\Arquivos_Lojas\\202003_Cidade de Sao Paulo_SP.csv\n",
      "c:\\Users\\Adrielle\\OneDrive\\Área de Trabalho\\Códigos\\Arquivos_Lojas\\Arquivos_Lojas\\202003_Goiania Shopping_GO.csv\n",
      "c:\\Users\\Adrielle\\OneDrive\\Área de Trabalho\\Códigos\\Arquivos_Lojas\\Arquivos_Lojas\\202003_Ibirapuera_SP.csv\n",
      "c:\\Users\\Adrielle\\OneDrive\\Área de Trabalho\\Códigos\\Arquivos_Lojas\\Arquivos_Lojas\\202003_Iguatemi_SP.csv\n",
      "c:\\Users\\Adrielle\\OneDrive\\Área de Trabalho\\Códigos\\Arquivos_Lojas\\Arquivos_Lojas\\202003_Independência Shopping_MG.csv\n",
      "c:\\Users\\Adrielle\\OneDrive\\Área de Trabalho\\Códigos\\Arquivos_Lojas\\Arquivos_Lojas\\202003_JK Iguatemi_SP.csv\n",
      "c:\\Users\\Adrielle\\OneDrive\\Área de Trabalho\\Códigos\\Arquivos_Lojas\\Arquivos_Lojas\\202003_Minas Shopping_MG.csv\n",
      "c:\\Users\\Adrielle\\OneDrive\\Área de Trabalho\\Códigos\\Arquivos_Lojas\\Arquivos_Lojas\\202003_Morumbi_SP.csv\n",
      "c:\\Users\\Adrielle\\OneDrive\\Área de Trabalho\\Códigos\\Arquivos_Lojas\\Arquivos_Lojas\\202003_Plaza Shopping_RJ.csv\n",
      "c:\\Users\\Adrielle\\OneDrive\\Área de Trabalho\\Códigos\\Arquivos_Lojas\\Arquivos_Lojas\\202003_Rio Sul_RJ.csv\n",
      "c:\\Users\\Adrielle\\OneDrive\\Área de Trabalho\\Códigos\\Arquivos_Lojas\\Arquivos_Lojas\\202003_Shopping Cidade_MG.csv\n",
      "c:\\Users\\Adrielle\\OneDrive\\Área de Trabalho\\Códigos\\Arquivos_Lojas\\Arquivos_Lojas\\202003_Shopping Leblon_RJ.csv\n",
      "c:\\Users\\Adrielle\\OneDrive\\Área de Trabalho\\Códigos\\Arquivos_Lojas\\Arquivos_Lojas\\202003_Shopping Tijuca_RJ.csv\n",
      "c:\\Users\\Adrielle\\OneDrive\\Área de Trabalho\\Códigos\\Arquivos_Lojas\\Arquivos_Lojas\\202004_Amazonas Shopping_AM.csv\n",
      "c:\\Users\\Adrielle\\OneDrive\\Área de Trabalho\\Códigos\\Arquivos_Lojas\\Arquivos_Lojas\\202004_Barra Shopping_RJ.csv\n",
      "c:\\Users\\Adrielle\\OneDrive\\Área de Trabalho\\Códigos\\Arquivos_Lojas\\Arquivos_Lojas\\202004_BH Shopping_MG.csv\n",
      "c:\\Users\\Adrielle\\OneDrive\\Área de Trabalho\\Códigos\\Arquivos_Lojas\\Arquivos_Lojas\\202004_Bourbon_SP.csv\n",
      "c:\\Users\\Adrielle\\OneDrive\\Área de Trabalho\\Códigos\\Arquivos_Lojas\\Arquivos_Lojas\\202004_Buriti Shopping_GO.csv\n",
      "c:\\Users\\Adrielle\\OneDrive\\Área de Trabalho\\Códigos\\Arquivos_Lojas\\Arquivos_Lojas\\202004_Cidade de Sao Paulo_SP.csv\n",
      "c:\\Users\\Adrielle\\OneDrive\\Área de Trabalho\\Códigos\\Arquivos_Lojas\\Arquivos_Lojas\\202004_Goiania Shopping_GO.csv\n",
      "c:\\Users\\Adrielle\\OneDrive\\Área de Trabalho\\Códigos\\Arquivos_Lojas\\Arquivos_Lojas\\202004_Ibirapuera_SP.csv\n",
      "c:\\Users\\Adrielle\\OneDrive\\Área de Trabalho\\Códigos\\Arquivos_Lojas\\Arquivos_Lojas\\202004_Iguatemi_SP.csv\n",
      "c:\\Users\\Adrielle\\OneDrive\\Área de Trabalho\\Códigos\\Arquivos_Lojas\\Arquivos_Lojas\\202004_Independência Shopping_MG.csv\n",
      "c:\\Users\\Adrielle\\OneDrive\\Área de Trabalho\\Códigos\\Arquivos_Lojas\\Arquivos_Lojas\\202004_JK Iguatemi_SP.csv\n",
      "c:\\Users\\Adrielle\\OneDrive\\Área de Trabalho\\Códigos\\Arquivos_Lojas\\Arquivos_Lojas\\202004_Minas Shopping_MG.csv\n",
      "c:\\Users\\Adrielle\\OneDrive\\Área de Trabalho\\Códigos\\Arquivos_Lojas\\Arquivos_Lojas\\202004_Morumbi_SP.csv\n",
      "c:\\Users\\Adrielle\\OneDrive\\Área de Trabalho\\Códigos\\Arquivos_Lojas\\Arquivos_Lojas\\202004_Plaza Shopping_RJ.csv\n",
      "c:\\Users\\Adrielle\\OneDrive\\Área de Trabalho\\Códigos\\Arquivos_Lojas\\Arquivos_Lojas\\202004_Rio Sul_RJ.csv\n",
      "c:\\Users\\Adrielle\\OneDrive\\Área de Trabalho\\Códigos\\Arquivos_Lojas\\Arquivos_Lojas\\202004_Shopping Cidade_MG.csv\n",
      "c:\\Users\\Adrielle\\OneDrive\\Área de Trabalho\\Códigos\\Arquivos_Lojas\\Arquivos_Lojas\\202004_Shopping Leblon_RJ.csv\n",
      "c:\\Users\\Adrielle\\OneDrive\\Área de Trabalho\\Códigos\\Arquivos_Lojas\\Arquivos_Lojas\\202004_Shopping Tijuca_RJ.csv\n"
     ]
    }
   ],
   "source": [
    "from pathlib import Path\n",
    "\n",
    "print(Path.cwd())\n",
    "\n",
    "caminho = Path('c:/Users/Adrielle/OneDrive/Área de Trabalho/Códigos/Arquivos_Lojas/Arquivos_Lojas')\n",
    "\n",
    "arquivos = caminho.iterdir()\n",
    "for arquivo in arquivos: \n",
    "    print(arquivo)\n"
   ]
  },
  {
   "cell_type": "markdown",
   "metadata": {},
   "source": [
    "#### Verificando se um arquivo existe na pasta"
   ]
  },
  {
   "cell_type": "code",
   "execution_count": 8,
   "metadata": {},
   "outputs": [
    {
     "name": "stdout",
     "output_type": "stream",
     "text": [
      "Existe\n"
     ]
    }
   ],
   "source": [
    "if (caminho / Path('201802_Cidade de Sao Paulo_SP.csv')).exists():\n",
    "    print('Existe')\n"
   ]
  },
  {
   "cell_type": "markdown",
   "metadata": {},
   "source": [
    "#### Criando uma pasta no computador "
   ]
  },
  {
   "cell_type": "code",
   "execution_count": 16,
   "metadata": {},
   "outputs": [],
   "source": [
    "Path('Pasta Auxiliar/Pasta2').mkdir()"
   ]
  },
  {
   "cell_type": "code",
   "execution_count": 12,
   "metadata": {},
   "outputs": [
    {
     "data": {
      "text/plain": [
       "WindowsPath('Pasta Auxiliar/201801_Amazonas Shopping_AM.csv')"
      ]
     },
     "execution_count": 12,
     "metadata": {},
     "output_type": "execute_result"
    }
   ],
   "source": [
    "# Criando uma cópia do nosso arquivo na nova pasta\n",
    "\n",
    "import shutil\n",
    "arquivo_copiar = (caminho / Path('201801_Amazonas Shopping_AM.csv'))\n",
    "arquivo_colar = Path('Pasta Auxiliar/201801_Amazonas Shopping_AM.csv')\n",
    "shutil.copy2(arquivo_copiar,arquivo_colar )"
   ]
  },
  {
   "cell_type": "code",
   "execution_count": 17,
   "metadata": {},
   "outputs": [
    {
     "data": {
      "text/plain": [
       "WindowsPath('Pasta Auxiliar/Pasta2/201801_Amazonas Shopping_AM.csv')"
      ]
     },
     "execution_count": 17,
     "metadata": {},
     "output_type": "execute_result"
    }
   ],
   "source": [
    "shutil.move(Path('Pasta Auxiliar/201801_Amazonas Shopping_AM.csv'), Path('Pasta Auxiliar/Pasta2/201801_Amazonas Shopping_AM.csv'))"
   ]
  },
  {
   "cell_type": "markdown",
   "metadata": {},
   "source": [
    "# Desafio"
   ]
  },
  {
   "cell_type": "code",
   "execution_count": 73,
   "metadata": {},
   "outputs": [],
   "source": [
    "estados = ['RJ','SP','MG','GO','AM']\n",
    "for estado in estados:\n",
    "    Path('Arquivos_Lojas/Arquivos_Lojas/{}'.format(estado)).mkdir()"
   ]
  },
  {
   "cell_type": "code",
   "execution_count": 86,
   "metadata": {},
   "outputs": [],
   "source": [
    "caminho = Path('Arquivos_Lojas/Arquivos_Lojas')\n",
    "arquivos = caminho.iterdir()\n",
    "\n",
    "arquivos = caminho.iterdir()\n",
    "for arquivo in arquivos: \n",
    "    arquivo_nome = arquivo.name\n",
    "    if arquivo_nome[-3:] == 'csv':\n",
    "        estado = arquivo_nome[-6:-4]\n",
    "        local_final = caminho / Path('{}/{}'.format(estado,arquivo_nome))\n",
    "        shutil.move(arquivo,local_final)\n"
   ]
  }
 ],
 "metadata": {
  "kernelspec": {
   "display_name": "Python 3",
   "language": "python",
   "name": "python3"
  },
  "language_info": {
   "codemirror_mode": {
    "name": "ipython",
    "version": 3
   },
   "file_extension": ".py",
   "mimetype": "text/x-python",
   "name": "python",
   "nbconvert_exporter": "python",
   "pygments_lexer": "ipython3",
   "version": "3.10.5"
  }
 },
 "nbformat": 4,
 "nbformat_minor": 2
}
